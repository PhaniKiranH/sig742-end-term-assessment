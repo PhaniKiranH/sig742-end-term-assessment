{
  "nbformat": 4,
  "nbformat_minor": 0,
  "metadata": {
    "colab": {
      "provenance": [],
      "authorship_tag": "ABX9TyOrL4fpDLnQrYK0nANULgU1"
    },
    "kernelspec": {
      "name": "python3",
      "display_name": "Python 3"
    },
    "language_info": {
      "name": "python"
    }
  },
  "cells": [
    {
      "cell_type": "markdown",
      "source": [
        "**Student ID:** s225722032\n",
        "\n",
        "**Student Name:** Phani Kiran Hemadri\n",
        "\n",
        "**Workshop/Lab Session Time:**"
      ],
      "metadata": {
        "id": "OrZsElTVkUJ2"
      }
    },
    {
      "cell_type": "code",
      "execution_count": 1,
      "metadata": {
        "id": "qiIx7P81jOji"
      },
      "outputs": [],
      "source": [
        "#!pip -q install pyspark\n",
        "\n",
        "#from google.colab import files\n",
        "\n",
        "#uploaded = files.upload()\n"
      ]
    },
    {
      "cell_type": "code",
      "source": [
        "import os, glob\n",
        "from google.colab import drive\n",
        "\n",
        "print(os.getcwd())\n",
        "drive.mount('/content/drive')\n",
        "\n",
        "#!ls -lah '/content/drive/MyDrive/Colab Notebooks/business_review_submission'\n",
        "\n",
        "file_dir='/content/drive/MyDrive/Colab Notebooks/business_review_submission'\n",
        "glob.glob(os.path.join(file_dir, \"*.csv\"))\n"
      ],
      "metadata": {
        "colab": {
          "base_uri": "https://localhost:8080/"
        },
        "id": "lZKJKzDhuUzM",
        "outputId": "4c172b45-2027-4c49-c29a-c21e9b41b58a"
      },
      "execution_count": 2,
      "outputs": [
        {
          "output_type": "stream",
          "name": "stdout",
          "text": [
            "/content\n",
            "Drive already mounted at /content/drive; to attempt to forcibly remount, call drive.mount(\"/content/drive\", force_remount=True).\n"
          ]
        },
        {
          "output_type": "execute_result",
          "data": {
            "text/plain": [
              "['/content/drive/MyDrive/Colab Notebooks/business_review_submission/review.csv',\n",
              " '/content/drive/MyDrive/Colab Notebooks/business_review_submission/meta-review-business.csv']"
            ]
          },
          "metadata": {},
          "execution_count": 2
        }
      ]
    },
    {
      "cell_type": "code",
      "source": [
        "reviews_path = f\"{file_dir}/review.csv\"\n",
        "meta_path    = f\"{file_dir}/meta-review-business.csv\""
      ],
      "metadata": {
        "id": "x9K3aofPzY-J"
      },
      "execution_count": 3,
      "outputs": []
    },
    {
      "cell_type": "markdown",
      "source": [],
      "metadata": {
        "id": "8lFNYBSswphF"
      }
    },
    {
      "cell_type": "code",
      "source": [
        "# start Spark session\n",
        "\n",
        "from pyspark.sql import SparkSession\n",
        "\n",
        "spark = (\n",
        "    SparkSession\n",
        "        .builder\n",
        "        .appName(\"SIT742-SparkSQL\")\n",
        "        .getOrCreate()\n",
        ")"
      ],
      "metadata": {
        "id": "VLIgp8BmwTKj"
      },
      "execution_count": 4,
      "outputs": []
    },
    {
      "cell_type": "code",
      "source": [
        "df_reviews = (\n",
        "    spark.read\n",
        "         .option(\"header\", True)\n",
        "         .option(\"inferSchema\", True)\n",
        "         .csv(reviews_path)\n",
        ")\n",
        "\n",
        "df_meta = (\n",
        "    spark.read\n",
        "         .option(\"header\", True)\n",
        "         .option(\"inferSchema\", True)\n",
        "         .csv(meta_path)\n",
        ")\n",
        "\n",
        "df_reviews.show(5, truncate=False)\n",
        "\n",
        "df_meta.show(5, truncate=False)"
      ],
      "metadata": {
        "colab": {
          "base_uri": "https://localhost:8080/"
        },
        "id": "bvTqN_Vl2h5U",
        "outputId": "eb764b69-e406-4311-d8b2-ee71e237d48a"
      },
      "execution_count": 5,
      "outputs": [
        {
          "output_type": "stream",
          "name": "stdout",
          "text": [
            "+---------------------------------------------------------------------------------------------------------------------------------------------------+---------------------------------------------------+-------------+---------------------------------------------------------------------------------------------------------------------+------------------------------------------------------------------------------------------------------------------------------------------------------------------------------------------------------------------------------------------------------------------------------------------+----+----+-------------------------------------+\n",
            "|user_id                                                                                                                                            |name                                               |time         |rating                                                                                                               |text                                                                                                                                                                                                                                                                                      |pics|resp|gmap_id                              |\n",
            "+---------------------------------------------------------------------------------------------------------------------------------------------------+---------------------------------------------------+-------------+---------------------------------------------------------------------------------------------------------------------+------------------------------------------------------------------------------------------------------------------------------------------------------------------------------------------------------------------------------------------------------------------------------------------+----+----+-------------------------------------+\n",
            "|1.091298048426862e+20                                                                                                                              |Nicki Gore                                         |1566331951619|5                                                                                                                    |We always stay here when in Valdez for silver salmon fishing. The elderly couple that run it are amazing to talk to, extremely helpful. The campsites are very well maintained.                                                                                                           |NULL|NULL|0x56b646ed2220b77f:0xd8975e316de80952|\n",
            "|1.1324092640575896e+20                                                                                                                             |Allen Ratliff                                      |1504917982385|5                                                                                                                    |Great campground for the price. Nice hot unlimited showers, laundy, and  spacious wooded lots. Full hook ups. Late check in available.                                                                                                                                                    |NULL|NULL|0x56b646ed2220b77f:0xd8975e316de80952|\n",
            "|1.1304483789114126e+20                                                                                                                             |Jonathan Tringali                                  |1474765901185|4                                                                                                                    |We tent camped here for 2 nights while exploring Valdez. The center of the campground was in the open and there are treed sites around the edges. Don't expect lower foliage separating the sites. Still this is much nicer than the other RV parking lots in town which seemed wide open.|NULL|NULL|NULL                                 |\n",
            "|There is a bath house with 1 set of coin operated washer/dryer                                                                                     | 2 restrooms (sink toilet) and 2 shower rooms (sink| toilet      | shower). The hot water will run out after a few showers. They provide floor mats towels for you to use which is nice| but they lack vent fans to remove moisture so it is prone to mold.                                                                                                                                                                                                                       |NULL|NULL|NULL                                 |\n",
            "|Wi-Fi didn't reach our site on the back edge of the campground. Overall we were happy with our stay at this campground and would stay there again.\"|NULL                                               |NULL         |0x56b646ed2220b77f:0xd8975e316de80952                                                                                |NULL                                                                                                                                                                                                                                                                                      |NULL|NULL|NULL                                 |\n",
            "+---------------------------------------------------------------------------------------------------------------------------------------------------+---------------------------------------------------+-------------+---------------------------------------------------------------------------------------------------------------------+------------------------------------------------------------------------------------------------------------------------------------------------------------------------------------------------------------------------------------------------------------------------------------------+----+----+-------------------------------------+\n",
            "only showing top 5 rows\n",
            "\n",
            "+---------------------------+------------------------------------------------------------------+-------------------------------------+-----------+------------------+-------------------+------------------------------------------------+----------+--------------+-----+--------------------------------------------------------------------------------------------------------------------------------------------------------------------------------+------------------------------------------------------------------------------------------------------------------------------------------------------------------------------------------+-----------------------+-------------------------------------------------------------------------------------------------------------------------------------------------------------------------------------------------------------+----------------------------------------------------------------------------------------------------------------+\n",
            "|name                       |address                                                           |gmap_id                              |description|latitude          |longitude          |category                                        |avg_rating|num_of_reviews|price|hours                                                                                                                                                                           |MISC                                                                                                                                                                                      |state                  |relative_results                                                                                                                                                                                             |url                                                                                                             |\n",
            "+---------------------------+------------------------------------------------------------------+-------------------------------------+-----------+------------------+-------------------+------------------------------------------------+----------+--------------+-----+--------------------------------------------------------------------------------------------------------------------------------------------------------------------------------+------------------------------------------------------------------------------------------------------------------------------------------------------------------------------------------+-----------------------+-------------------------------------------------------------------------------------------------------------------------------------------------------------------------------------------------------------+----------------------------------------------------------------------------------------------------------------+\n",
            "|Bear Creek Cabins & RV Park|Bear Creek Cabins & RV Park, 3181 Richardson Hwy, Valdez, AK 99686|0x56b646ed2220b77f:0xd8975e316de80952|NULL       |61.1006437        |-146.21455179999998|['RV park', 'Cabin rental agency', 'Campground']|4.5       |18            |NULL |NULL                                                                                                                                                                            |NULL                                                                                                                                                                                      |NULL                   |['0x56b6445fd9f9e387:0x6dd3d374ef56431a', '0x56b646917980df8b:0x5092593808fd5683', '0x56b646902f0e02db:0xe98efd617fbcc18b', '0x56b6468ea1b3a017:0x9e4cf985a172fcac', '0x56b6468d13a3cf57:0xf06b0906affed5b6']|https://www.google.com/maps/place//data=!4m2!3m1!1s0x56b646ed2220b77f:0xd8975e316de80952?authuser=-1&hl=en&gl=us|\n",
            "|Anchorage Market           |Anchorage Market, 88th Ave, Anchorage, AK 99515                   |0x56c8992b5dee7225:0x9f7f4bf151868cf7|NULL       |61.1414349        |-149.8684816       |\"[\"\"Farmers' market\"\"]\"                         |4.2       |18            |NULL |[['Thursday', 'Closed'], ['Friday', '10AM–5PM'], ['Saturday', '10AM–5PM'], ['Sunday', '10AM–5PM'], ['Monday', 'Closed'], ['Tuesday', 'Closed'], ['Wednesday', 'Closed']]        |{'Service options': ['In-store shopping'], 'Accessibility': ['Wheelchair accessible entrance']}                                                                                           |Closed ⋅ Opens 10AM Fri|NULL                                                                                                                                                                                                         |https://www.google.com/maps/place//data=!4m2!3m1!1s0x56c8992b5dee7225:0x9f7f4bf151868cf7?authuser=-1&hl=en&gl=us|\n",
            "|Happy Camper RV            |Happy Camper RV, 1151 N Shenandoah Dr # 4, Palmer, AK 99645       |0x56c8e0455225be87:0xf24828df75e2f8ae|NULL       |61.591855499999994|-149.2906566       |['RV repair shop']                              |4.4       |28            |NULL |NULL                                                                                                                                                                            |{'Accessibility': ['Wheelchair accessible entrance'], 'Amenities': ['Mechanic'], 'Planning': ['Appointments recommended']}                                                                |NULL                   |['0x56c8e104d9929a1d:0x2070ad63defadbf', '0x56c91f08c8dd5123:0x8896bac511938278', '0x56c8e09cd012ee45:0xf2838f4de29529c3', '0x56c8e0259af71a65:0x75e1d237141b21f0']                                          |https://www.google.com/maps/place//data=!4m2!3m1!1s0x56c8e0455225be87:0xf24828df75e2f8ae?authuser=-1&hl=en&gl=us|\n",
            "|Cajun Corner               |Cajun Corner, 302 G St, Anchorage, AK 99501                       |0x56c8bdb5d91017cd:0xca19fd9afceed343|NULL       |61.219378299999995|-149.8958522       |['American restaurant']                         |4.5       |24            |NULL |[['Wednesday', '11AM–2PM'], ['Thursday', '11AM–2PM'], ['Friday', '11AM–2PM'], ['Saturday', '11AM–2PM'], ['Sunday', 'Closed'], ['Monday', '11AM–2PM'], ['Tuesday', '11AM–2PM']]  |{'Service options': ['Takeout', 'Dine-in', 'Delivery'], 'Popular for': ['Dinner', 'Solo dining'], 'Dining options': ['Dessert'], 'Amenities': ['Good for kids'], 'Atmosphere': ['Casual']}|Closed ⋅ Opens 11AM Thu|NULL                                                                                                                                                                                                         |https://www.google.com/maps/place//data=!4m2!3m1!1s0x56c8bdb5d91017cd:0xca19fd9afceed343?authuser=-1&hl=en&gl=us|\n",
            "|Alaska General Seafoods    |Alaska General Seafoods, 980 Stedman St, Ketchikan, AK 99901      |0x540c251956395673:0x16f5a4fe26c18931|NULL       |55.336118799999994|-131.6306694       |['Seafood wholesaler', 'Food']                  |4.7       |8             |NULL |[['Wednesday', '7AM–11PM'], ['Thursday', '7AM–11PM'], ['Friday', '7AM–11PM'], ['Saturday', '7AM–11PM'], ['Sunday', '7AM–11PM'], ['Monday', '7AM–11PM'], ['Tuesday', '7AM–11PM']]|NULL                                                                                                                                                                                      |Open ⋅ Closes 11PM     |['0x540c25a882a72685:0xac5663d19d0a1893', '0x540c25a8a1f96287:0x6041195e00ca105f', '0x540c251b5c78f2b3:0xf9b013e498c3b978', '0x540c25a6001ef629:0xbe2cdfb65aac4023']                                         |https://www.google.com/maps/place//data=!4m2!3m1!1s0x540c251956395673:0x16f5a4fe26c18931?authuser=-1&hl=en&gl=us|\n",
            "+---------------------------+------------------------------------------------------------------+-------------------------------------+-----------+------------------+-------------------+------------------------------------------------+----------+--------------+-----+--------------------------------------------------------------------------------------------------------------------------------------------------------------------------------+------------------------------------------------------------------------------------------------------------------------------------------------------------------------------------------+-----------------------+-------------------------------------------------------------------------------------------------------------------------------------------------------------------------------------------------------------+----------------------------------------------------------------------------------------------------------------+\n",
            "only showing top 5 rows\n",
            "\n"
          ]
        }
      ]
    },
    {
      "cell_type": "code",
      "source": [
        "# Register temp views\n",
        "df_reviews.createOrReplaceTempView(\"reviews_raw\")\n",
        "df_meta.createOrReplaceTempView(\"meta_raw\")"
      ],
      "metadata": {
        "id": "nx9W3Za92vr5"
      },
      "execution_count": 6,
      "outputs": []
    },
    {
      "cell_type": "markdown",
      "source": [
        "# Question 1.1\n",
        "\n",
        "Using PySpark to do some data wrangling process, so that\n"
      ],
      "metadata": {
        "id": "TcggJX5K25Eu"
      }
    },
    {
      "cell_type": "markdown",
      "source": [
        "## 1.1.1 For the none or null in text column, change it to 'no review'."
      ],
      "metadata": {
        "id": "e5Y4E4Ja3Bol"
      }
    },
    {
      "cell_type": "code",
      "source": [
        "# confirm presence of 'text' column\n",
        "df_reviews.printSchema()"
      ],
      "metadata": {
        "colab": {
          "base_uri": "https://localhost:8080/"
        },
        "id": "s3QUSEYv7ozA",
        "outputId": "365a7d44-1342-459d-d159-4cff9508332e"
      },
      "execution_count": 7,
      "outputs": [
        {
          "output_type": "stream",
          "name": "stdout",
          "text": [
            "root\n",
            " |-- user_id: string (nullable = true)\n",
            " |-- name: string (nullable = true)\n",
            " |-- time: string (nullable = true)\n",
            " |-- rating: string (nullable = true)\n",
            " |-- text: string (nullable = true)\n",
            " |-- pics: string (nullable = true)\n",
            " |-- resp: string (nullable = true)\n",
            " |-- gmap_id: string (nullable = true)\n",
            "\n"
          ]
        }
      ]
    },
    {
      "cell_type": "code",
      "source": [
        "# using spark sql query peek at rows that are null/empty/'none' before cleaning\n",
        "spark.sql(\"\"\"\n",
        "SELECT *\n",
        "FROM reviews_raw\n",
        "WHERE text IS NULL\n",
        "   OR TRIM(text) = ''\n",
        "   OR LOWER(TRIM(text)) IN ('none', 'null')\n",
        "\"\"\").show(truncate=True)\n"
      ],
      "metadata": {
        "colab": {
          "base_uri": "https://localhost:8080/"
        },
        "id": "28fB4wAp7olZ",
        "outputId": "e49c8b2e-0882-4bd3-b54e-e2b18c42c74f"
      },
      "execution_count": 8,
      "outputs": [
        {
          "output_type": "stream",
          "name": "stdout",
          "text": [
            "+--------------------+--------------------+-------------+--------------------+----+----+--------------------+--------------------+\n",
            "|             user_id|                name|         time|              rating|text|pics|                resp|             gmap_id|\n",
            "+--------------------+--------------------+-------------+--------------------+----+----+--------------------+--------------------+\n",
            "|Wi-Fi didn't reac...|                NULL|         NULL|0x56b646ed2220b77...|NULL|NULL|                NULL|                NULL|\n",
            "|1.169785198939306...|          Holly Anne|1629595392534|                   4|NULL|NULL|                NULL|0x56c8992b5dee722...|\n",
            "|1.097489809617870...|       Emma Forsberg|1629598102068|                   5|NULL|NULL|                NULL|0x56c8992b5dee722...|\n",
            "|1.069279219833724...|       sherry miller|1630540491895|                   5|NULL|NULL|                NULL|0x56c8992b5dee722...|\n",
            "|1.176554580456088...|            Amy Lieb|1630292802235|                   4|NULL|NULL|                NULL|0x56c8992b5dee722...|\n",
            "|1.069274254664423...|Saralan Ruth Hancock|1590877018198|                   4|NULL|NULL|                NULL|0x56c8e0455225be8...|\n",
            "|1.021430901643758...|            AK Woman|1513575394394|                   5|NULL|NULL|                NULL|0x56c8e0455225be8...|\n",
            "|1.170856429848184...|         John Herman|1567992031983|                   5|NULL|NULL|                NULL|0x540c2519bcfa6cc...|\n",
            "|1.142961049420734...|     Brianne Belford|1565031512310|                   5|NULL|NULL|                NULL|0x540c2519bcfa6cc...|\n",
            "|1.153189101608130...|  Amelia Hendrickson|1565628571929|                   5|NULL|NULL|                NULL|0x540c2519bcfa6cc...|\n",
            "|1.165961600203387...|       Klaryssa lynn|1519350178408|                   4|NULL|NULL|                NULL|0x56c89632d94b816...|\n",
            "|1.100323167327458...|        Roger Gaston|1529372046727|                   3|NULL|NULL|                NULL|0x56c89632d94b816...|\n",
            "|1.163736279047984...|       Kim Shoecraft|1568230454943|                   5|NULL|NULL|{'time': 16276197...|0x56c89632d94b816...|\n",
            "|1.071725044215238...|         Rice Marley|1530512925666|                   4|NULL|NULL|                NULL|0x56c89632d94b816...|\n",
            "|1.004291235156085...|   Josh Souvannakasy|1617748871062|                   5|NULL|NULL|                NULL|0x56c89940e51d737...|\n",
            "|1.021094974813695...|          Steve Dahl|1551038426358|                   1|NULL|NULL|                NULL|0x56c89940e51d737...|\n",
            "|KTOO is also home...| a television sta...|         NULL|                NULL|NULL|NULL|                NULL|                NULL|\n",
            "|1.006124903482679...|         Barb Kreher|1563033984076|                   5|NULL|NULL|                NULL|0x5400df83fb9c9d4...|\n",
            "|1.170568832967900...|        Bret Burnett|1591441634895|                   5|NULL|NULL|                NULL|0x5400df83fb9c9d4...|\n",
            "|1.174100949656436...|      Chan Valentine|1496951952943|                   5|NULL|NULL|                NULL|0x5400df83fb9c9d4...|\n",
            "+--------------------+--------------------+-------------+--------------------+----+----+--------------------+--------------------+\n",
            "only showing top 20 rows\n",
            "\n"
          ]
        }
      ]
    },
    {
      "cell_type": "code",
      "source": [
        "# replace None/null/\"\"/\"none\" in text with \"no review\"\n",
        "# create new temp view 'review_clean' adding new column 'text_clean'\n",
        "\n",
        "spark.sql(\"\"\"\n",
        "CREATE OR REPLACE TEMP VIEW reviews_clean AS\n",
        "SELECT\n",
        "  *,\n",
        "  CASE\n",
        "    WHEN text IS NULL\n",
        "      OR TRIM(text) = ''\n",
        "      OR LOWER(TRIM(text)) IN ('none', 'null')\n",
        "    THEN 'no review'\n",
        "    ELSE text\n",
        "  END AS text_clean\n",
        "FROM reviews_raw\n",
        "\"\"\")\n",
        "\n",
        "\n"
      ],
      "metadata": {
        "colab": {
          "base_uri": "https://localhost:8080/"
        },
        "id": "qnJ0Qp7_2-Z3",
        "outputId": "c57d658c-d6e6-4916-95f4-1f398ef7ec7d"
      },
      "execution_count": 9,
      "outputs": [
        {
          "output_type": "execute_result",
          "data": {
            "text/plain": [
              "DataFrame[]"
            ]
          },
          "metadata": {},
          "execution_count": 9
        }
      ]
    },
    {
      "cell_type": "code",
      "source": [
        "# peek few rows after cleaning null/none 'text' column with 'no review'\n",
        "spark.sql(\"\"\"\n",
        "SELECT user_id, name, text AS original_text, text_clean\n",
        "FROM reviews_clean\n",
        "\"\"\").show(truncate=True)"
      ],
      "metadata": {
        "colab": {
          "base_uri": "https://localhost:8080/"
        },
        "id": "qZ-jyis85WaO",
        "outputId": "07cbd27f-f23c-43fc-bf25-f306a7ef6c98"
      },
      "execution_count": 10,
      "outputs": [
        {
          "output_type": "stream",
          "name": "stdout",
          "text": [
            "+--------------------+--------------------+--------------------+--------------------+\n",
            "|             user_id|                name|       original_text|          text_clean|\n",
            "+--------------------+--------------------+--------------------+--------------------+\n",
            "|1.091298048426862...|          Nicki Gore|We always stay he...|We always stay he...|\n",
            "|1.132409264057589...|       Allen Ratliff|Great campground ...|Great campground ...|\n",
            "|1.130448378911412...|   Jonathan Tringali|We tent camped he...|We tent camped he...|\n",
            "|There is a bath h...| 2 restrooms (sin...| but they lack ve...| but they lack ve...|\n",
            "|Wi-Fi didn't reac...|                NULL|                NULL|           no review|\n",
            "|1.103291551475920...|              S Blad|This place is jus...|This place is jus...|\n",
            "|1.08989634908602e+20|      Daniel Formoso|Probably the nice...|Probably the nice...|\n",
            "|1.157388655487960...|       Victoria Cook|Great, slept like...|Great, slept like...|\n",
            "|1.163932319879565...|              Matt H|It is always a tr...|It is always a tr...|\n",
            "|1.179859920593560...|             Claudie|Only 3 booths wit...|Only 3 booths wit...|\n",
            "|1.156582466444838...|       Crystal Dahle|Not a lot going o...|Not a lot going o...|\n",
            "|1.036557557423225...|           John Deal|       It's a market|       It's a market|\n",
            "|1.169785198939306...|          Holly Anne|                NULL|           no review|\n",
            "|1.097489809617870...|       Emma Forsberg|                NULL|           no review|\n",
            "|1.069279219833724...|       sherry miller|                NULL|           no review|\n",
            "|1.176554580456088...|            Amy Lieb|                NULL|           no review|\n",
            "|1.183310918918397...|     Phillip Lekanof|Great help, and d...|Great help, and d...|\n",
            "|1.086764922481204...|        Cre•dence 52|Matt was honest a...|Matt was honest a...|\n",
            "|1.169455884420099...|          The East's|Max at Happy Camp...|Max at Happy Camp...|\n",
            "|1.173540222271148...|           Julie Str|Extremely easy to...|Extremely easy to...|\n",
            "+--------------------+--------------------+--------------------+--------------------+\n",
            "only showing top 20 rows\n",
            "\n"
          ]
        }
      ]
    },
    {
      "cell_type": "code",
      "source": [
        "# print count of replaced items\n",
        "spark.sql(\"\"\"\n",
        "SELECT COUNT(*) AS replaced_count\n",
        "FROM reviews_clean\n",
        "WHERE text_clean = 'no review'\n",
        "\"\"\").show()"
      ],
      "metadata": {
        "colab": {
          "base_uri": "https://localhost:8080/"
        },
        "id": "NcL1Sb_l5uB9",
        "outputId": "8e9d2f85-4497-4b6e-de1e-278ffd29fcd9"
      },
      "execution_count": 11,
      "outputs": [
        {
          "output_type": "stream",
          "name": "stdout",
          "text": [
            "+--------------+\n",
            "|replaced_count|\n",
            "+--------------+\n",
            "|        249931|\n",
            "+--------------+\n",
            "\n"
          ]
        }
      ]
    },
    {
      "cell_type": "markdown",
      "source": [
        "## 1.1.2 Process the content in time column, and convert the strings from time to yyyy-mm-dd format in the new column as newtime and show the first 5 rows."
      ],
      "metadata": {
        "id": "gI_j4Kba9gBH"
      }
    },
    {
      "cell_type": "code",
      "source": [
        "# first lets look at schema so we see column names and types\n",
        "spark.sql(\"DESCRIBE TABLE reviews_clean\").show(truncate=False)"
      ],
      "metadata": {
        "colab": {
          "base_uri": "https://localhost:8080/"
        },
        "id": "LGZw80EI9oD1",
        "outputId": "3c79e867-2a38-44df-c2b9-672c882a9fab"
      },
      "execution_count": 12,
      "outputs": [
        {
          "output_type": "stream",
          "name": "stdout",
          "text": [
            "+----------+---------+-------+\n",
            "|col_name  |data_type|comment|\n",
            "+----------+---------+-------+\n",
            "|user_id   |string   |NULL   |\n",
            "|name      |string   |NULL   |\n",
            "|time      |string   |NULL   |\n",
            "|rating    |string   |NULL   |\n",
            "|text      |string   |NULL   |\n",
            "|pics      |string   |NULL   |\n",
            "|resp      |string   |NULL   |\n",
            "|gmap_id   |string   |NULL   |\n",
            "|text_clean|string   |NULL   |\n",
            "+----------+---------+-------+\n",
            "\n"
          ]
        }
      ]
    },
    {
      "cell_type": "code",
      "source": [
        "# lets review the lengths of 'time' strings\n",
        "# In general milli seconds epoch string will be of length 13\n",
        "# other lengths suggest improper data\n",
        "\n",
        "spark.sql(\"\"\"\n",
        "SELECT\n",
        "  LENGTH(time) AS len,\n",
        "  COUNT(*)     AS cnt\n",
        "FROM reviews_clean\n",
        "GROUP BY LENGTH(time)\n",
        "ORDER BY cnt DESC\n",
        "\"\"\").show()"
      ],
      "metadata": {
        "colab": {
          "base_uri": "https://localhost:8080/"
        },
        "id": "f5bEjOrY-VAc",
        "outputId": "af6409ba-4d4b-4fa8-bc18-6a5854d5aba2"
      },
      "execution_count": 13,
      "outputs": [
        {
          "output_type": "stream",
          "name": "stdout",
          "text": [
            "+----+------+\n",
            "| len|   cnt|\n",
            "+----+------+\n",
            "|  13|521573|\n",
            "|NULL| 24815|\n",
            "| 112|   138|\n",
            "| 224|    80|\n",
            "|  40|    74|\n",
            "|  42|    70|\n",
            "|  20|    69|\n",
            "|  14|    68|\n",
            "|  18|    68|\n",
            "|   6|    66|\n",
            "|   7|    66|\n",
            "|  21|    64|\n",
            "|   5|    62|\n",
            "|  41|    62|\n",
            "|  11|    62|\n",
            "|  44|    61|\n",
            "| 336|    61|\n",
            "|  39|    60|\n",
            "|  23|    60|\n",
            "|  29|    59|\n",
            "+----+------+\n",
            "only showing top 20 rows\n",
            "\n"
          ]
        }
      ]
    },
    {
      "cell_type": "code",
      "source": [
        "# lets create a view that adds a column 'newtime' formatted as yyyy-MM-dd\n",
        "spark.sql(\"\"\"\n",
        "CREATE OR REPLACE TEMP VIEW reviews_with_newtime AS\n",
        "SELECT\n",
        "  t.*,\n",
        "  date_format(\n",
        "    to_timestamp(\n",
        "      from_unixtime( CAST(CAST(t.time AS BIGINT) / 1000 AS BIGINT) )\n",
        "    ),\n",
        "    'yyyy-MM-dd'\n",
        "  ) AS newtime\n",
        "FROM reviews_clean t\n",
        "\"\"\")"
      ],
      "metadata": {
        "colab": {
          "base_uri": "https://localhost:8080/"
        },
        "id": "7aiA3UKTC0tZ",
        "outputId": "4d8cf19f-2a37-4f78-f564-8a34e1d233ae"
      },
      "execution_count": 14,
      "outputs": [
        {
          "output_type": "execute_result",
          "data": {
            "text/plain": [
              "DataFrame[]"
            ]
          },
          "metadata": {},
          "execution_count": 14
        }
      ]
    },
    {
      "cell_type": "code",
      "source": [
        "# lets view original 'time' vs 'newtime' in yyyy-MM-dd format\n",
        "spark.sql(\"\"\"\n",
        "SELECT user_id, name, time, newtime\n",
        "FROM reviews_with_newtime\n",
        "\"\"\").show(truncate=True)\n",
        "\n",
        "# count rows where parsing failed and newtime is NULL\n",
        "spark.sql(\"\"\"\n",
        "SELECT COUNT(*) AS null_newtime_count\n",
        "FROM reviews_with_newtime\n",
        "WHERE newtime IS NULL\n",
        "\"\"\").show()"
      ],
      "metadata": {
        "colab": {
          "base_uri": "https://localhost:8080/"
        },
        "id": "xQZ3YpCMC4V-",
        "outputId": "124e0b9b-801f-42d9-c014-c6fcb8d2eace"
      },
      "execution_count": 15,
      "outputs": [
        {
          "output_type": "stream",
          "name": "stdout",
          "text": [
            "+--------------------+--------------------+-------------+----------+\n",
            "|             user_id|                name|         time|   newtime|\n",
            "+--------------------+--------------------+-------------+----------+\n",
            "|1.091298048426862...|          Nicki Gore|1566331951619|2019-08-20|\n",
            "|1.132409264057589...|       Allen Ratliff|1504917982385|2017-09-09|\n",
            "|1.130448378911412...|   Jonathan Tringali|1474765901185|2016-09-25|\n",
            "|There is a bath h...| 2 restrooms (sin...|       toilet|      NULL|\n",
            "|Wi-Fi didn't reac...|                NULL|         NULL|      NULL|\n",
            "|1.103291551475920...|              S Blad|1472858535682|2016-09-02|\n",
            "|1.08989634908602e+20|      Daniel Formoso|1529649811341|2018-06-22|\n",
            "|1.157388655487960...|       Victoria Cook|1466170294782|2016-06-17|\n",
            "|1.163932319879565...|              Matt H|1625369270215|2021-07-04|\n",
            "|1.179859920593560...|             Claudie|1629350418882|2021-08-19|\n",
            "|1.156582466444838...|       Crystal Dahle|1630382185833|2021-08-31|\n",
            "|1.036557557423225...|           John Deal|1631131711388|2021-09-08|\n",
            "|1.169785198939306...|          Holly Anne|1629595392534|2021-08-22|\n",
            "|1.097489809617870...|       Emma Forsberg|1629598102068|2021-08-22|\n",
            "|1.069279219833724...|       sherry miller|1630540491895|2021-09-01|\n",
            "|1.176554580456088...|            Amy Lieb|1630292802235|2021-08-30|\n",
            "|1.183310918918397...|     Phillip Lekanof|1624600737849|2021-06-25|\n",
            "|1.086764922481204...|        Cre•dence 52|1630669457601|2021-09-03|\n",
            "|1.169455884420099...|          The East's|1617897565122|2021-04-08|\n",
            "|1.173540222271148...|           Julie Str|1601734456932|2020-10-03|\n",
            "+--------------------+--------------------+-------------+----------+\n",
            "only showing top 20 rows\n",
            "\n",
            "+------------------+\n",
            "|null_newtime_count|\n",
            "+------------------+\n",
            "|             31104|\n",
            "+------------------+\n",
            "\n"
          ]
        }
      ]
    }
  ]
}