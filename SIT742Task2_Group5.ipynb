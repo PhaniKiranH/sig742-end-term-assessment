{
  "nbformat": 4,
  "nbformat_minor": 0,
  "metadata": {
    "colab": {
      "provenance": [],
      "authorship_tag": "ABX9TyO9xIDs2EX83v0dGFAHM13N"
    },
    "kernelspec": {
      "name": "python3",
      "display_name": "Python 3"
    },
    "language_info": {
      "name": "python"
    }
  },
  "cells": [
    {
      "cell_type": "markdown",
      "source": [
        "**Student ID:** s225722032\n",
        "\n",
        "**Student Name:** Phani Kiran Hemadri\n",
        "\n",
        "**Workshop/Lab Session Time:**"
      ],
      "metadata": {
        "id": "OrZsElTVkUJ2"
      }
    },
    {
      "cell_type": "code",
      "execution_count": 1,
      "metadata": {
        "id": "qiIx7P81jOji"
      },
      "outputs": [],
      "source": [
        "#!pip -q install pyspark\n",
        "\n",
        "#from google.colab import files\n",
        "\n",
        "#uploaded = files.upload()\n"
      ]
    },
    {
      "cell_type": "code",
      "source": [
        "import os, glob\n",
        "from google.colab import drive\n",
        "\n",
        "print(os.getcwd())\n",
        "drive.mount('/content/drive')\n",
        "\n",
        "#!ls -lah '/content/drive/MyDrive/Colab Notebooks/business_review_submission'\n",
        "\n",
        "file_dir='/content/drive/MyDrive/Colab Notebooks/business_review_submission'\n",
        "glob.glob(os.path.join(file_dir, \"*.csv\"))\n"
      ],
      "metadata": {
        "colab": {
          "base_uri": "https://localhost:8080/"
        },
        "id": "lZKJKzDhuUzM",
        "outputId": "7351bf94-e3e0-427f-f260-9af511bb75a2"
      },
      "execution_count": 2,
      "outputs": [
        {
          "output_type": "stream",
          "name": "stdout",
          "text": [
            "/content\n",
            "Drive already mounted at /content/drive; to attempt to forcibly remount, call drive.mount(\"/content/drive\", force_remount=True).\n"
          ]
        },
        {
          "output_type": "execute_result",
          "data": {
            "text/plain": [
              "['/content/drive/MyDrive/Colab Notebooks/business_review_submission/review.csv',\n",
              " '/content/drive/MyDrive/Colab Notebooks/business_review_submission/meta-review-business.csv']"
            ]
          },
          "metadata": {},
          "execution_count": 2
        }
      ]
    },
    {
      "cell_type": "code",
      "source": [
        "reviews_path = f\"{file_dir}/review.csv\"\n",
        "meta_path    = f\"{file_dir}/meta-review-business.csv\""
      ],
      "metadata": {
        "id": "x9K3aofPzY-J"
      },
      "execution_count": 3,
      "outputs": []
    },
    {
      "cell_type": "code",
      "source": [
        "# start Spark session\n",
        "\n",
        "from pyspark.sql import SparkSession\n",
        "\n",
        "spark = (\n",
        "    SparkSession\n",
        "        .builder\n",
        "        .appName(\"SIT742-SparkSQL\")\n",
        "        .getOrCreate()\n",
        ")"
      ],
      "metadata": {
        "id": "VLIgp8BmwTKj"
      },
      "execution_count": 4,
      "outputs": []
    },
    {
      "cell_type": "code",
      "source": [
        "df_reviews = (\n",
        "    spark.read\n",
        "         .option(\"header\", True)\n",
        "         .option(\"inferSchema\", True)\n",
        "         .csv(reviews_path)\n",
        ")\n",
        "\n",
        "df_meta = (\n",
        "    spark.read\n",
        "         .option(\"header\", True)\n",
        "         .option(\"inferSchema\", True)\n",
        "         .csv(meta_path)\n",
        ")\n",
        "\n",
        "df_reviews.show(n=5)\n",
        "\n",
        "df_meta.show(n=5)"
      ],
      "metadata": {
        "colab": {
          "base_uri": "https://localhost:8080/"
        },
        "id": "bvTqN_Vl2h5U",
        "outputId": "d878aa71-dd3e-4547-8355-5dadf71db732"
      },
      "execution_count": 5,
      "outputs": [
        {
          "output_type": "stream",
          "name": "stdout",
          "text": [
            "+--------------------+--------------------+-------------+--------------------+--------------------+----+----+--------------------+\n",
            "|             user_id|                name|         time|              rating|                text|pics|resp|             gmap_id|\n",
            "+--------------------+--------------------+-------------+--------------------+--------------------+----+----+--------------------+\n",
            "|1.091298048426862...|          Nicki Gore|1566331951619|                   5|We always stay he...|NULL|NULL|0x56b646ed2220b77...|\n",
            "|1.132409264057589...|       Allen Ratliff|1504917982385|                   5|Great campground ...|NULL|NULL|0x56b646ed2220b77...|\n",
            "|1.130448378911412...|   Jonathan Tringali|1474765901185|                   4|We tent camped he...|NULL|NULL|                NULL|\n",
            "|There is a bath h...| 2 restrooms (sin...|       toilet| shower). The hot...| but they lack ve...|NULL|NULL|                NULL|\n",
            "|Wi-Fi didn't reac...|                NULL|         NULL|0x56b646ed2220b77...|                NULL|NULL|NULL|                NULL|\n",
            "+--------------------+--------------------+-------------+--------------------+--------------------+----+----+--------------------+\n",
            "only showing top 5 rows\n",
            "\n",
            "+--------------------+--------------------+--------------------+-----------+------------------+-------------------+--------------------+----------+--------------+-----+--------------------+--------------------+--------------------+--------------------+--------------------+\n",
            "|                name|             address|             gmap_id|description|          latitude|          longitude|            category|avg_rating|num_of_reviews|price|               hours|                MISC|               state|    relative_results|                 url|\n",
            "+--------------------+--------------------+--------------------+-----------+------------------+-------------------+--------------------+----------+--------------+-----+--------------------+--------------------+--------------------+--------------------+--------------------+\n",
            "|Bear Creek Cabins...|Bear Creek Cabins...|0x56b646ed2220b77...|       NULL|        61.1006437|-146.21455179999998|['RV park', 'Cabi...|       4.5|            18| NULL|                NULL|                NULL|                NULL|['0x56b6445fd9f9e...|https://www.googl...|\n",
            "|    Anchorage Market|Anchorage Market,...|0x56c8992b5dee722...|       NULL|        61.1414349|       -149.8684816|\"[\"\"Farmers' mark...|       4.2|            18| NULL|[['Thursday', 'Cl...|{'Service options...|Closed ⋅ Opens 10...|                NULL|https://www.googl...|\n",
            "|     Happy Camper RV|Happy Camper RV, ...|0x56c8e0455225be8...|       NULL|61.591855499999994|       -149.2906566|  ['RV repair shop']|       4.4|            28| NULL|                NULL|{'Accessibility':...|                NULL|['0x56c8e104d9929...|https://www.googl...|\n",
            "|        Cajun Corner|Cajun Corner, 302...|0x56c8bdb5d91017c...|       NULL|61.219378299999995|       -149.8958522|['American restau...|       4.5|            24| NULL|[['Wednesday', '1...|{'Service options...|Closed ⋅ Opens 11...|                NULL|https://www.googl...|\n",
            "|Alaska General Se...|Alaska General Se...|0x540c25195639567...|       NULL|55.336118799999994|       -131.6306694|['Seafood wholesa...|       4.7|             8| NULL|[['Wednesday', '7...|                NULL|  Open ⋅ Closes 11PM|['0x540c25a882a72...|https://www.googl...|\n",
            "+--------------------+--------------------+--------------------+-----------+------------------+-------------------+--------------------+----------+--------------+-----+--------------------+--------------------+--------------------+--------------------+--------------------+\n",
            "only showing top 5 rows\n",
            "\n"
          ]
        }
      ]
    },
    {
      "cell_type": "code",
      "source": [
        "# Register temp views\n",
        "df_reviews.createOrReplaceTempView(\"reviews_raw\")\n",
        "df_meta.createOrReplaceTempView(\"meta_raw\")"
      ],
      "metadata": {
        "id": "nx9W3Za92vr5"
      },
      "execution_count": 6,
      "outputs": []
    },
    {
      "cell_type": "markdown",
      "source": [
        "# Question 1.1\n",
        "\n",
        "Using PySpark to do some data wrangling process, so that\n"
      ],
      "metadata": {
        "id": "TcggJX5K25Eu"
      }
    },
    {
      "cell_type": "markdown",
      "source": [
        "## 1.1.1\n",
        "For the **none** or **null** in ***text column***, change it to '**no review**'."
      ],
      "metadata": {
        "id": "e5Y4E4Ja3Bol"
      }
    },
    {
      "cell_type": "code",
      "source": [
        "# confirm presence of 'text' column\n",
        "df_reviews.printSchema()"
      ],
      "metadata": {
        "colab": {
          "base_uri": "https://localhost:8080/"
        },
        "id": "s3QUSEYv7ozA",
        "outputId": "354aa116-a054-4253-ceb3-c777388e1a8e"
      },
      "execution_count": 7,
      "outputs": [
        {
          "output_type": "stream",
          "name": "stdout",
          "text": [
            "root\n",
            " |-- user_id: string (nullable = true)\n",
            " |-- name: string (nullable = true)\n",
            " |-- time: string (nullable = true)\n",
            " |-- rating: string (nullable = true)\n",
            " |-- text: string (nullable = true)\n",
            " |-- pics: string (nullable = true)\n",
            " |-- resp: string (nullable = true)\n",
            " |-- gmap_id: string (nullable = true)\n",
            "\n"
          ]
        }
      ]
    },
    {
      "cell_type": "code",
      "source": [
        "# using spark sql query peek at rows that are null/empty/'none' before cleaning\n",
        "spark.sql(\"\"\"\n",
        "SELECT *\n",
        "FROM reviews_raw\n",
        "WHERE text IS NULL\n",
        "   OR TRIM(text) = ''\n",
        "   OR LOWER(TRIM(text)) IN ('none', 'null')\n",
        "\"\"\").show(n=5)\n"
      ],
      "metadata": {
        "colab": {
          "base_uri": "https://localhost:8080/"
        },
        "id": "28fB4wAp7olZ",
        "outputId": "e6aba093-e48a-49b7-8fd7-d9bd148a2dc7"
      },
      "execution_count": 8,
      "outputs": [
        {
          "output_type": "stream",
          "name": "stdout",
          "text": [
            "+--------------------+-------------+-------------+--------------------+----+----+----+--------------------+\n",
            "|             user_id|         name|         time|              rating|text|pics|resp|             gmap_id|\n",
            "+--------------------+-------------+-------------+--------------------+----+----+----+--------------------+\n",
            "|Wi-Fi didn't reac...|         NULL|         NULL|0x56b646ed2220b77...|NULL|NULL|NULL|                NULL|\n",
            "|1.169785198939306...|   Holly Anne|1629595392534|                   4|NULL|NULL|NULL|0x56c8992b5dee722...|\n",
            "|1.097489809617870...|Emma Forsberg|1629598102068|                   5|NULL|NULL|NULL|0x56c8992b5dee722...|\n",
            "|1.069279219833724...|sherry miller|1630540491895|                   5|NULL|NULL|NULL|0x56c8992b5dee722...|\n",
            "|1.176554580456088...|     Amy Lieb|1630292802235|                   4|NULL|NULL|NULL|0x56c8992b5dee722...|\n",
            "+--------------------+-------------+-------------+--------------------+----+----+----+--------------------+\n",
            "only showing top 5 rows\n",
            "\n"
          ]
        }
      ]
    },
    {
      "cell_type": "code",
      "source": [
        "# replace None/null/\"\"/\"none\" in text with \"no review\"\n",
        "# create new temp view 'review_clean' adding new column 'text_clean'\n",
        "\n",
        "spark.sql(\"\"\"\n",
        "CREATE OR REPLACE TEMP VIEW reviews_clean AS\n",
        "SELECT\n",
        "  *,\n",
        "  CASE\n",
        "    WHEN text IS NULL\n",
        "      OR TRIM(text) = ''\n",
        "      OR LOWER(TRIM(text)) IN ('none', 'null')\n",
        "    THEN 'no review'\n",
        "    ELSE text\n",
        "  END AS text_clean\n",
        "FROM reviews_raw\n",
        "\"\"\")\n",
        "\n",
        "\n"
      ],
      "metadata": {
        "colab": {
          "base_uri": "https://localhost:8080/"
        },
        "id": "qnJ0Qp7_2-Z3",
        "outputId": "012a6bc3-aea8-4a33-eda8-d925b0173856"
      },
      "execution_count": 9,
      "outputs": [
        {
          "output_type": "execute_result",
          "data": {
            "text/plain": [
              "DataFrame[]"
            ]
          },
          "metadata": {},
          "execution_count": 9
        }
      ]
    },
    {
      "cell_type": "code",
      "source": [
        "# peek few rows after cleaning null/none 'text' column with 'no review'\n",
        "spark.sql(\"\"\"\n",
        "SELECT user_id, name, text AS original_text, text_clean\n",
        "FROM reviews_clean\n",
        "\"\"\").show(n=5)"
      ],
      "metadata": {
        "colab": {
          "base_uri": "https://localhost:8080/"
        },
        "id": "qZ-jyis85WaO",
        "outputId": "cd487b43-232e-4cf2-b1a6-6aa991f68ea4"
      },
      "execution_count": 10,
      "outputs": [
        {
          "output_type": "stream",
          "name": "stdout",
          "text": [
            "+--------------------+--------------------+--------------------+--------------------+\n",
            "|             user_id|                name|       original_text|          text_clean|\n",
            "+--------------------+--------------------+--------------------+--------------------+\n",
            "|1.091298048426862...|          Nicki Gore|We always stay he...|We always stay he...|\n",
            "|1.132409264057589...|       Allen Ratliff|Great campground ...|Great campground ...|\n",
            "|1.130448378911412...|   Jonathan Tringali|We tent camped he...|We tent camped he...|\n",
            "|There is a bath h...| 2 restrooms (sin...| but they lack ve...| but they lack ve...|\n",
            "|Wi-Fi didn't reac...|                NULL|                NULL|           no review|\n",
            "+--------------------+--------------------+--------------------+--------------------+\n",
            "only showing top 5 rows\n",
            "\n"
          ]
        }
      ]
    },
    {
      "cell_type": "code",
      "source": [
        "# print count of replaced items\n",
        "spark.sql(\"\"\"\n",
        "SELECT COUNT(*) AS replaced_count\n",
        "FROM reviews_clean\n",
        "WHERE text_clean = 'no review'\n",
        "\"\"\").show()"
      ],
      "metadata": {
        "colab": {
          "base_uri": "https://localhost:8080/"
        },
        "id": "NcL1Sb_l5uB9",
        "outputId": "582dc38b-5afb-4260-b8f0-cc477cbe9673"
      },
      "execution_count": 11,
      "outputs": [
        {
          "output_type": "stream",
          "name": "stdout",
          "text": [
            "+--------------+\n",
            "|replaced_count|\n",
            "+--------------+\n",
            "|        249931|\n",
            "+--------------+\n",
            "\n"
          ]
        }
      ]
    },
    {
      "cell_type": "markdown",
      "source": [
        "## 1.1.2\n",
        "Process the content in time column, and convert the strings from time to **yyyy-mm-dd** format in the new column as newtime and show the first 5 rows."
      ],
      "metadata": {
        "id": "gI_j4Kba9gBH"
      }
    },
    {
      "cell_type": "code",
      "source": [
        "# lets look at schema so we see column names and types\n",
        "spark.sql(\"DESCRIBE TABLE reviews_clean\").show()"
      ],
      "metadata": {
        "colab": {
          "base_uri": "https://localhost:8080/"
        },
        "id": "LGZw80EI9oD1",
        "outputId": "e4719041-231c-4970-b569-f7267722948b"
      },
      "execution_count": 12,
      "outputs": [
        {
          "output_type": "stream",
          "name": "stdout",
          "text": [
            "+----------+---------+-------+\n",
            "|  col_name|data_type|comment|\n",
            "+----------+---------+-------+\n",
            "|   user_id|   string|   NULL|\n",
            "|      name|   string|   NULL|\n",
            "|      time|   string|   NULL|\n",
            "|    rating|   string|   NULL|\n",
            "|      text|   string|   NULL|\n",
            "|      pics|   string|   NULL|\n",
            "|      resp|   string|   NULL|\n",
            "|   gmap_id|   string|   NULL|\n",
            "|text_clean|   string|   NULL|\n",
            "+----------+---------+-------+\n",
            "\n"
          ]
        }
      ]
    },
    {
      "cell_type": "code",
      "source": [
        "# lets review the lengths of 'time' strings\n",
        "# In general milli seconds epoch string will be of length 13\n",
        "# other lengths suggest improper data\n",
        "\n",
        "spark.sql(\"\"\"\n",
        "SELECT\n",
        "  LENGTH(time) AS len,\n",
        "  COUNT(*)     AS cnt\n",
        "FROM reviews_clean\n",
        "GROUP BY LENGTH(time)\n",
        "ORDER BY cnt DESC\n",
        "\"\"\").show()"
      ],
      "metadata": {
        "colab": {
          "base_uri": "https://localhost:8080/"
        },
        "id": "f5bEjOrY-VAc",
        "outputId": "6a1125cd-0650-4817-c8f9-b020508e3588"
      },
      "execution_count": 13,
      "outputs": [
        {
          "output_type": "stream",
          "name": "stdout",
          "text": [
            "+----+------+\n",
            "| len|   cnt|\n",
            "+----+------+\n",
            "|  13|521573|\n",
            "|NULL| 24815|\n",
            "| 112|   138|\n",
            "| 224|    80|\n",
            "|  40|    74|\n",
            "|  42|    70|\n",
            "|  20|    69|\n",
            "|  14|    68|\n",
            "|  18|    68|\n",
            "|   6|    66|\n",
            "|   7|    66|\n",
            "|  21|    64|\n",
            "|   5|    62|\n",
            "|  41|    62|\n",
            "|  11|    62|\n",
            "|  44|    61|\n",
            "| 336|    61|\n",
            "|  39|    60|\n",
            "|  23|    60|\n",
            "|  29|    59|\n",
            "+----+------+\n",
            "only showing top 20 rows\n",
            "\n"
          ]
        }
      ]
    },
    {
      "cell_type": "code",
      "source": [
        "# lets create a view that adds a column 'newtime' formatted as yyyy-MM-dd\n",
        "spark.sql(\"\"\"\n",
        "CREATE OR REPLACE TEMP VIEW reviews_with_newtime AS\n",
        "SELECT\n",
        "  t.*,\n",
        "  date_format(\n",
        "    to_timestamp(\n",
        "      from_unixtime( CAST(CAST(t.time AS BIGINT) / 1000 AS BIGINT) )\n",
        "    ),\n",
        "    'yyyy-MM-dd'\n",
        "  ) AS newtime\n",
        "FROM reviews_clean t\n",
        "\"\"\")"
      ],
      "metadata": {
        "colab": {
          "base_uri": "https://localhost:8080/"
        },
        "id": "7aiA3UKTC0tZ",
        "outputId": "78a4a25c-f62a-4e6b-c844-a6bed1954d6a"
      },
      "execution_count": 14,
      "outputs": [
        {
          "output_type": "execute_result",
          "data": {
            "text/plain": [
              "DataFrame[]"
            ]
          },
          "metadata": {},
          "execution_count": 14
        }
      ]
    },
    {
      "cell_type": "code",
      "source": [
        "# lets view original 'time' vs 'newtime' in yyyy-MM-dd format\n",
        "spark.sql(\"\"\"\n",
        "SELECT user_id, name, time, newtime\n",
        "FROM reviews_with_newtime\n",
        "\"\"\").show(n=5)\n",
        "\n",
        "# count rows where parsing failed and newtime is NULL\n",
        "spark.sql(\"\"\"\n",
        "SELECT COUNT(*) AS null_newtime_count\n",
        "FROM reviews_with_newtime\n",
        "WHERE newtime IS NULL\n",
        "\"\"\").show()"
      ],
      "metadata": {
        "colab": {
          "base_uri": "https://localhost:8080/"
        },
        "id": "xQZ3YpCMC4V-",
        "outputId": "144b9d46-7f7e-4483-fbb8-f02ed304c297"
      },
      "execution_count": 15,
      "outputs": [
        {
          "output_type": "stream",
          "name": "stdout",
          "text": [
            "+--------------------+--------------------+-------------+----------+\n",
            "|             user_id|                name|         time|   newtime|\n",
            "+--------------------+--------------------+-------------+----------+\n",
            "|1.091298048426862...|          Nicki Gore|1566331951619|2019-08-20|\n",
            "|1.132409264057589...|       Allen Ratliff|1504917982385|2017-09-09|\n",
            "|1.130448378911412...|   Jonathan Tringali|1474765901185|2016-09-25|\n",
            "|There is a bath h...| 2 restrooms (sin...|       toilet|      NULL|\n",
            "|Wi-Fi didn't reac...|                NULL|         NULL|      NULL|\n",
            "+--------------------+--------------------+-------------+----------+\n",
            "only showing top 5 rows\n",
            "\n",
            "+------------------+\n",
            "|null_newtime_count|\n",
            "+------------------+\n",
            "|             31104|\n",
            "+------------------+\n",
            "\n"
          ]
        }
      ]
    },
    {
      "cell_type": "markdown",
      "source": [
        "# Question 1.2\n",
        "Find out the information for gmap_id on the reviews. In order to achieve the above, some wrangling work is\n",
        "required to be done:"
      ],
      "metadata": {
        "id": "qmCagzTUFBTC"
      }
    },
    {
      "cell_type": "markdown",
      "source": [
        "## 1.2.1\n",
        "Using pyspark to calculate the number of reviews per each unique gmap_id and save as float format in pyspark dataframe to show the top 5 rows."
      ],
      "metadata": {
        "id": "yyPhQY-oFLdq"
      }
    },
    {
      "cell_type": "code",
      "source": [
        "from pyspark.sql import functions as F, types as T\n",
        "\n",
        "# get dataframe handle to the SQL view created in 1.1.2\n",
        "reviews_df = spark.table(\"reviews_with_newtime\")\n",
        "\n",
        "# exclude rows where gmap_id is null or empty\n",
        "reviews_df = reviews_df.where(\n",
        "    F.col(\"gmap_id\").isNotNull() & (F.length(F.trim(F.col(\"gmap_id\"))) > 0)\n",
        ")\n",
        "\n",
        "# group by gmap_id and count how many reviews\n",
        "# and add the count as a floating point number\n",
        "counts_df = (\n",
        "    reviews_df\n",
        "      .groupBy(\"gmap_id\")\n",
        "      .agg(F.count(\"*\").alias(\"num_reviews_int\"))\n",
        "      .withColumn(\"num_reviews_float\", F.col(\"num_reviews_int\").cast(T.DoubleType()))\n",
        ")\n",
        "\n",
        "# create a temp view\n",
        "counts_df.createOrReplaceTempView(\"reviews_per_gmap\")\n",
        "\n",
        "# show top 5 by review_count_float\n",
        "counts_df.orderBy(F.desc(\"num_reviews_float\")).show(n=5)"
      ],
      "metadata": {
        "colab": {
          "base_uri": "https://localhost:8080/"
        },
        "id": "ndR0qyzJIUd6",
        "outputId": "72a4da90-de7f-42db-b9ca-e8acdbf4258f"
      },
      "execution_count": 16,
      "outputs": [
        {
          "output_type": "stream",
          "name": "stdout",
          "text": [
            "+--------------------+---------------+-----------------+\n",
            "|             gmap_id|num_reviews_int|num_reviews_float|\n",
            "+--------------------+---------------+-----------------+\n",
            "|0x56c897b9ce6000d...|           2737|           2737.0|\n",
            "|0x56c899d05892048...|           2555|           2555.0|\n",
            "|0x56c897c63697ee3...|           2220|           2220.0|\n",
            "|0x56c8965ee2fb87a...|           2202|           2202.0|\n",
            "|0x56c89629bde7481...|           2156|           2156.0|\n",
            "+--------------------+---------------+-----------------+\n",
            "only showing top 5 rows\n",
            "\n"
          ]
        }
      ]
    },
    {
      "cell_type": "markdown",
      "source": [
        "## 1.2.2\n",
        "Transform the current pyspark dataframe to pandas dataframe (named as df) and create the column reivew_time with the information of review time on hours level. Print your df pandas dataframe with top 5 rows after creating the column review_time."
      ],
      "metadata": {
        "id": "XGdGfBwMFayG"
      }
    },
    {
      "cell_type": "code",
      "source": [
        "import pandas as pd\n",
        "\n",
        "# convert to pandas\n",
        "df = reviews_df.toPandas()\n",
        "\n",
        "# create new column review_time with information of review time on hours level\n",
        "# convert 'time' to numeric, coercing errors to NaN, then fill NaN with 0 before converting to int64\n",
        "df[\"review_time\"] = pd.to_datetime(pd.to_numeric(df[\"time\"], errors='coerce').fillna(0).astype(\"int64\"), unit=\"ms\").dt.hour\n",
        "\n",
        "# print top 5 rows\n",
        "df.head()"
      ],
      "metadata": {
        "colab": {
          "base_uri": "https://localhost:8080/",
          "height": 293
        },
        "id": "G34ekYGuIpV5",
        "outputId": "ed4a3270-2abf-4813-c74f-18bc2675e0f6"
      },
      "execution_count": 17,
      "outputs": [
        {
          "output_type": "execute_result",
          "data": {
            "text/plain": [
              "                  user_id            name           time rating  \\\n",
              "0   1.091298048426862e+20      Nicki Gore  1566331951619      5   \n",
              "1  1.1324092640575896e+20   Allen Ratliff  1504917982385      5   \n",
              "2  1.1032915514759202e+20          S Blad  1472858535682      4   \n",
              "3    1.08989634908602e+20  Daniel Formoso  1529649811341      5   \n",
              "4  1.1573886554879607e+20   Victoria Cook  1466170294782      5   \n",
              "\n",
              "                                                text  pics  resp  \\\n",
              "0  We always stay here when in Valdez for silver ...  None  None   \n",
              "1  Great campground for the price. Nice hot unlim...  None  None   \n",
              "2  This place is just a few miles outside Valdez,...  None  None   \n",
              "3  Probably the nicest and cleanest campground we...  None  None   \n",
              "4  Great, slept like a bear. Clean, convenient, c...  None  None   \n",
              "\n",
              "                                 gmap_id  \\\n",
              "0  0x56b646ed2220b77f:0xd8975e316de80952   \n",
              "1  0x56b646ed2220b77f:0xd8975e316de80952   \n",
              "2  0x56b646ed2220b77f:0xd8975e316de80952   \n",
              "3  0x56b646ed2220b77f:0xd8975e316de80952   \n",
              "4  0x56b646ed2220b77f:0xd8975e316de80952   \n",
              "\n",
              "                                          text_clean     newtime  review_time  \n",
              "0  We always stay here when in Valdez for silver ...  2019-08-20           20  \n",
              "1  Great campground for the price. Nice hot unlim...  2017-09-09            0  \n",
              "2  This place is just a few miles outside Valdez,...  2016-09-02           23  \n",
              "3  Probably the nicest and cleanest campground we...  2018-06-22            6  \n",
              "4  Great, slept like a bear. Clean, convenient, c...  2016-06-17           13  "
            ],
            "text/html": [
              "\n",
              "  <div id=\"df-8f95c323-edb2-4e6e-ad19-3490de80bfc8\" class=\"colab-df-container\">\n",
              "    <div>\n",
              "<style scoped>\n",
              "    .dataframe tbody tr th:only-of-type {\n",
              "        vertical-align: middle;\n",
              "    }\n",
              "\n",
              "    .dataframe tbody tr th {\n",
              "        vertical-align: top;\n",
              "    }\n",
              "\n",
              "    .dataframe thead th {\n",
              "        text-align: right;\n",
              "    }\n",
              "</style>\n",
              "<table border=\"1\" class=\"dataframe\">\n",
              "  <thead>\n",
              "    <tr style=\"text-align: right;\">\n",
              "      <th></th>\n",
              "      <th>user_id</th>\n",
              "      <th>name</th>\n",
              "      <th>time</th>\n",
              "      <th>rating</th>\n",
              "      <th>text</th>\n",
              "      <th>pics</th>\n",
              "      <th>resp</th>\n",
              "      <th>gmap_id</th>\n",
              "      <th>text_clean</th>\n",
              "      <th>newtime</th>\n",
              "      <th>review_time</th>\n",
              "    </tr>\n",
              "  </thead>\n",
              "  <tbody>\n",
              "    <tr>\n",
              "      <th>0</th>\n",
              "      <td>1.091298048426862e+20</td>\n",
              "      <td>Nicki Gore</td>\n",
              "      <td>1566331951619</td>\n",
              "      <td>5</td>\n",
              "      <td>We always stay here when in Valdez for silver ...</td>\n",
              "      <td>None</td>\n",
              "      <td>None</td>\n",
              "      <td>0x56b646ed2220b77f:0xd8975e316de80952</td>\n",
              "      <td>We always stay here when in Valdez for silver ...</td>\n",
              "      <td>2019-08-20</td>\n",
              "      <td>20</td>\n",
              "    </tr>\n",
              "    <tr>\n",
              "      <th>1</th>\n",
              "      <td>1.1324092640575896e+20</td>\n",
              "      <td>Allen Ratliff</td>\n",
              "      <td>1504917982385</td>\n",
              "      <td>5</td>\n",
              "      <td>Great campground for the price. Nice hot unlim...</td>\n",
              "      <td>None</td>\n",
              "      <td>None</td>\n",
              "      <td>0x56b646ed2220b77f:0xd8975e316de80952</td>\n",
              "      <td>Great campground for the price. Nice hot unlim...</td>\n",
              "      <td>2017-09-09</td>\n",
              "      <td>0</td>\n",
              "    </tr>\n",
              "    <tr>\n",
              "      <th>2</th>\n",
              "      <td>1.1032915514759202e+20</td>\n",
              "      <td>S Blad</td>\n",
              "      <td>1472858535682</td>\n",
              "      <td>4</td>\n",
              "      <td>This place is just a few miles outside Valdez,...</td>\n",
              "      <td>None</td>\n",
              "      <td>None</td>\n",
              "      <td>0x56b646ed2220b77f:0xd8975e316de80952</td>\n",
              "      <td>This place is just a few miles outside Valdez,...</td>\n",
              "      <td>2016-09-02</td>\n",
              "      <td>23</td>\n",
              "    </tr>\n",
              "    <tr>\n",
              "      <th>3</th>\n",
              "      <td>1.08989634908602e+20</td>\n",
              "      <td>Daniel Formoso</td>\n",
              "      <td>1529649811341</td>\n",
              "      <td>5</td>\n",
              "      <td>Probably the nicest and cleanest campground we...</td>\n",
              "      <td>None</td>\n",
              "      <td>None</td>\n",
              "      <td>0x56b646ed2220b77f:0xd8975e316de80952</td>\n",
              "      <td>Probably the nicest and cleanest campground we...</td>\n",
              "      <td>2018-06-22</td>\n",
              "      <td>6</td>\n",
              "    </tr>\n",
              "    <tr>\n",
              "      <th>4</th>\n",
              "      <td>1.1573886554879607e+20</td>\n",
              "      <td>Victoria Cook</td>\n",
              "      <td>1466170294782</td>\n",
              "      <td>5</td>\n",
              "      <td>Great, slept like a bear. Clean, convenient, c...</td>\n",
              "      <td>None</td>\n",
              "      <td>None</td>\n",
              "      <td>0x56b646ed2220b77f:0xd8975e316de80952</td>\n",
              "      <td>Great, slept like a bear. Clean, convenient, c...</td>\n",
              "      <td>2016-06-17</td>\n",
              "      <td>13</td>\n",
              "    </tr>\n",
              "  </tbody>\n",
              "</table>\n",
              "</div>\n",
              "    <div class=\"colab-df-buttons\">\n",
              "\n",
              "  <div class=\"colab-df-container\">\n",
              "    <button class=\"colab-df-convert\" onclick=\"convertToInteractive('df-8f95c323-edb2-4e6e-ad19-3490de80bfc8')\"\n",
              "            title=\"Convert this dataframe to an interactive table.\"\n",
              "            style=\"display:none;\">\n",
              "\n",
              "  <svg xmlns=\"http://www.w3.org/2000/svg\" height=\"24px\" viewBox=\"0 -960 960 960\">\n",
              "    <path d=\"M120-120v-720h720v720H120Zm60-500h600v-160H180v160Zm220 220h160v-160H400v160Zm0 220h160v-160H400v160ZM180-400h160v-160H180v160Zm440 0h160v-160H620v160ZM180-180h160v-160H180v160Zm440 0h160v-160H620v160Z\"/>\n",
              "  </svg>\n",
              "    </button>\n",
              "\n",
              "  <style>\n",
              "    .colab-df-container {\n",
              "      display:flex;\n",
              "      gap: 12px;\n",
              "    }\n",
              "\n",
              "    .colab-df-convert {\n",
              "      background-color: #E8F0FE;\n",
              "      border: none;\n",
              "      border-radius: 50%;\n",
              "      cursor: pointer;\n",
              "      display: none;\n",
              "      fill: #1967D2;\n",
              "      height: 32px;\n",
              "      padding: 0 0 0 0;\n",
              "      width: 32px;\n",
              "    }\n",
              "\n",
              "    .colab-df-convert:hover {\n",
              "      background-color: #E2EBFA;\n",
              "      box-shadow: 0px 1px 2px rgba(60, 64, 67, 0.3), 0px 1px 3px 1px rgba(60, 64, 67, 0.15);\n",
              "      fill: #174EA6;\n",
              "    }\n",
              "\n",
              "    .colab-df-buttons div {\n",
              "      margin-bottom: 4px;\n",
              "    }\n",
              "\n",
              "    [theme=dark] .colab-df-convert {\n",
              "      background-color: #3B4455;\n",
              "      fill: #D2E3FC;\n",
              "    }\n",
              "\n",
              "    [theme=dark] .colab-df-convert:hover {\n",
              "      background-color: #434B5C;\n",
              "      box-shadow: 0px 1px 3px 1px rgba(0, 0, 0, 0.15);\n",
              "      filter: drop-shadow(0px 1px 2px rgba(0, 0, 0, 0.3));\n",
              "      fill: #FFFFFF;\n",
              "    }\n",
              "  </style>\n",
              "\n",
              "    <script>\n",
              "      const buttonEl =\n",
              "        document.querySelector('#df-8f95c323-edb2-4e6e-ad19-3490de80bfc8 button.colab-df-convert');\n",
              "      buttonEl.style.display =\n",
              "        google.colab.kernel.accessAllowed ? 'block' : 'none';\n",
              "\n",
              "      async function convertToInteractive(key) {\n",
              "        const element = document.querySelector('#df-8f95c323-edb2-4e6e-ad19-3490de80bfc8');\n",
              "        const dataTable =\n",
              "          await google.colab.kernel.invokeFunction('convertToInteractive',\n",
              "                                                    [key], {});\n",
              "        if (!dataTable) return;\n",
              "\n",
              "        const docLinkHtml = 'Like what you see? Visit the ' +\n",
              "          '<a target=\"_blank\" href=https://colab.research.google.com/notebooks/data_table.ipynb>data table notebook</a>'\n",
              "          + ' to learn more about interactive tables.';\n",
              "        element.innerHTML = '';\n",
              "        dataTable['output_type'] = 'display_data';\n",
              "        await google.colab.output.renderOutput(dataTable, element);\n",
              "        const docLink = document.createElement('div');\n",
              "        docLink.innerHTML = docLinkHtml;\n",
              "        element.appendChild(docLink);\n",
              "      }\n",
              "    </script>\n",
              "  </div>\n",
              "\n",
              "\n",
              "    <div id=\"df-b4f0cfb0-a7f9-4887-b61f-1d55686002f9\">\n",
              "      <button class=\"colab-df-quickchart\" onclick=\"quickchart('df-b4f0cfb0-a7f9-4887-b61f-1d55686002f9')\"\n",
              "                title=\"Suggest charts\"\n",
              "                style=\"display:none;\">\n",
              "\n",
              "<svg xmlns=\"http://www.w3.org/2000/svg\" height=\"24px\"viewBox=\"0 0 24 24\"\n",
              "     width=\"24px\">\n",
              "    <g>\n",
              "        <path d=\"M19 3H5c-1.1 0-2 .9-2 2v14c0 1.1.9 2 2 2h14c1.1 0 2-.9 2-2V5c0-1.1-.9-2-2-2zM9 17H7v-7h2v7zm4 0h-2V7h2v10zm4 0h-2v-4h2v4z\"/>\n",
              "    </g>\n",
              "</svg>\n",
              "      </button>\n",
              "\n",
              "<style>\n",
              "  .colab-df-quickchart {\n",
              "      --bg-color: #E8F0FE;\n",
              "      --fill-color: #1967D2;\n",
              "      --hover-bg-color: #E2EBFA;\n",
              "      --hover-fill-color: #174EA6;\n",
              "      --disabled-fill-color: #AAA;\n",
              "      --disabled-bg-color: #DDD;\n",
              "  }\n",
              "\n",
              "  [theme=dark] .colab-df-quickchart {\n",
              "      --bg-color: #3B4455;\n",
              "      --fill-color: #D2E3FC;\n",
              "      --hover-bg-color: #434B5C;\n",
              "      --hover-fill-color: #FFFFFF;\n",
              "      --disabled-bg-color: #3B4455;\n",
              "      --disabled-fill-color: #666;\n",
              "  }\n",
              "\n",
              "  .colab-df-quickchart {\n",
              "    background-color: var(--bg-color);\n",
              "    border: none;\n",
              "    border-radius: 50%;\n",
              "    cursor: pointer;\n",
              "    display: none;\n",
              "    fill: var(--fill-color);\n",
              "    height: 32px;\n",
              "    padding: 0;\n",
              "    width: 32px;\n",
              "  }\n",
              "\n",
              "  .colab-df-quickchart:hover {\n",
              "    background-color: var(--hover-bg-color);\n",
              "    box-shadow: 0 1px 2px rgba(60, 64, 67, 0.3), 0 1px 3px 1px rgba(60, 64, 67, 0.15);\n",
              "    fill: var(--button-hover-fill-color);\n",
              "  }\n",
              "\n",
              "  .colab-df-quickchart-complete:disabled,\n",
              "  .colab-df-quickchart-complete:disabled:hover {\n",
              "    background-color: var(--disabled-bg-color);\n",
              "    fill: var(--disabled-fill-color);\n",
              "    box-shadow: none;\n",
              "  }\n",
              "\n",
              "  .colab-df-spinner {\n",
              "    border: 2px solid var(--fill-color);\n",
              "    border-color: transparent;\n",
              "    border-bottom-color: var(--fill-color);\n",
              "    animation:\n",
              "      spin 1s steps(1) infinite;\n",
              "  }\n",
              "\n",
              "  @keyframes spin {\n",
              "    0% {\n",
              "      border-color: transparent;\n",
              "      border-bottom-color: var(--fill-color);\n",
              "      border-left-color: var(--fill-color);\n",
              "    }\n",
              "    20% {\n",
              "      border-color: transparent;\n",
              "      border-left-color: var(--fill-color);\n",
              "      border-top-color: var(--fill-color);\n",
              "    }\n",
              "    30% {\n",
              "      border-color: transparent;\n",
              "      border-left-color: var(--fill-color);\n",
              "      border-top-color: var(--fill-color);\n",
              "      border-right-color: var(--fill-color);\n",
              "    }\n",
              "    40% {\n",
              "      border-color: transparent;\n",
              "      border-right-color: var(--fill-color);\n",
              "      border-top-color: var(--fill-color);\n",
              "    }\n",
              "    60% {\n",
              "      border-color: transparent;\n",
              "      border-right-color: var(--fill-color);\n",
              "    }\n",
              "    80% {\n",
              "      border-color: transparent;\n",
              "      border-right-color: var(--fill-color);\n",
              "      border-bottom-color: var(--fill-color);\n",
              "    }\n",
              "    90% {\n",
              "      border-color: transparent;\n",
              "      border-bottom-color: var(--fill-color);\n",
              "    }\n",
              "  }\n",
              "</style>\n",
              "\n",
              "      <script>\n",
              "        async function quickchart(key) {\n",
              "          const quickchartButtonEl =\n",
              "            document.querySelector('#' + key + ' button');\n",
              "          quickchartButtonEl.disabled = true;  // To prevent multiple clicks.\n",
              "          quickchartButtonEl.classList.add('colab-df-spinner');\n",
              "          try {\n",
              "            const charts = await google.colab.kernel.invokeFunction(\n",
              "                'suggestCharts', [key], {});\n",
              "          } catch (error) {\n",
              "            console.error('Error during call to suggestCharts:', error);\n",
              "          }\n",
              "          quickchartButtonEl.classList.remove('colab-df-spinner');\n",
              "          quickchartButtonEl.classList.add('colab-df-quickchart-complete');\n",
              "        }\n",
              "        (() => {\n",
              "          let quickchartButtonEl =\n",
              "            document.querySelector('#df-b4f0cfb0-a7f9-4887-b61f-1d55686002f9 button');\n",
              "          quickchartButtonEl.style.display =\n",
              "            google.colab.kernel.accessAllowed ? 'block' : 'none';\n",
              "        })();\n",
              "      </script>\n",
              "    </div>\n",
              "\n",
              "    </div>\n",
              "  </div>\n"
            ],
            "application/vnd.google.colaboratory.intrinsic+json": {
              "type": "dataframe",
              "variable_name": "df"
            }
          },
          "metadata": {},
          "execution_count": 17
        }
      ]
    },
    {
      "cell_type": "markdown",
      "source": [
        "## 1.2.3\n",
        "Using matplotlib or seaborn to draw some (two or more if possible)visualizations on the relationship between gmap_id and reivew_time. You could explore for example, what is the time people usually review? How many business is reviewed in the morning time etc. Please also discuss the insights you\n",
        "are finding with your visualizations in the markdown cell. Please also include your findings and visualizations in the report."
      ],
      "metadata": {
        "id": "st3MZ6qFGIzx"
      }
    },
    {
      "cell_type": "code",
      "source": [
        "import matplotlib.pyplot as plt\n",
        "import seaborn as sns\n",
        "\n",
        "sns.set_theme(context=\"notebook\", style=\"whitegrid\")\n",
        "\n",
        "# keep only rows with a valid hour and gmap_id\n",
        "rt = pd.to_numeric(df[\"review_time\"], errors=\"coerce\")\n",
        "df_rt = df.loc[rt.notna() & df[\"gmap_id\"].notna(), [\"gmap_id\"]].copy()\n",
        "df_rt[\"review_time\"] = rt[rt.notna()].astype(int)\n",
        "\n",
        "# What time do people usually review?\n",
        "hour_counts = df_rt[\"review_time\"].value_counts().sort_index()\n",
        "\n",
        "plt.figure(figsize=(10, 4))\n",
        "plt.bar(hour_counts.index, hour_counts.values)\n",
        "plt.title(\"Hourly Reviews\")\n",
        "plt.xlabel(\"Hour\")\n",
        "plt.ylabel(\"Number of Reviews\")\n",
        "plt.xticks(range(0, 24, 2))\n",
        "plt.tight_layout()\n",
        "plt.show()\n",
        "\n",
        "# How many businesses are reviewed in the morning time?\n",
        "morning_mask = df_rt[\"review_time\"].between(5, 12)\n",
        "unique_morning_businesses = df_rt.loc[morning_mask, \"gmap_id\"].nunique()\n",
        "print(\"Unique businesses with morning review:\", unique_morning_businesses)\n",
        "\n",
        "# build a per-business flag: does this business have any morning review?\n",
        "biz_morning = (\n",
        "    df_rt.assign(is_morning=morning_mask)\n",
        "         .groupby(\"gmap_id\", as_index=False)[\"is_morning\"]\n",
        "         .max()\n",
        ")\n",
        "\n",
        "plt.figure(figsize=(6, 4))\n",
        "ax = sns.countplot(data=biz_morning, x=\"is_morning\")\n",
        "ax.set_title(\"Businesses by Morning-Review Presence\")\n",
        "ax.set_xlabel(\"\")\n",
        "ax.set_xticklabels([\"No morning review\", \"Has morning review\"])\n",
        "ax.set_ylabel(\"Unique Businesses\")\n",
        "plt.tight_layout()\n",
        "plt.show()\n",
        "\n"
      ],
      "metadata": {
        "colab": {
          "base_uri": "https://localhost:8080/",
          "height": 837
        },
        "id": "GV7n8YysItwq",
        "outputId": "ecb0c385-af90-425f-e11b-59995bac2013"
      },
      "execution_count": 18,
      "outputs": [
        {
          "output_type": "display_data",
          "data": {
            "text/plain": [
              "<Figure size 1000x400 with 1 Axes>"
            ],
            "image/png": "[encoded data removed]"
          },
          "metadata": {}
        },
        {
          "output_type": "stream",
          "name": "stdout",
          "text": [
            "Unique businesses with morning review: 7382\n"
          ]
        },
        {
          "output_type": "stream",
          "name": "stderr",
          "text": [
            "/tmp/ipython-input-3021891356.py:39: UserWarning: set_ticklabels() should only be used with a fixed number of ticks, i.e. after set_ticks() or using a FixedLocator.\n",
            "  ax.set_xticklabels([\"No morning review\", \"Has morning review\"])\n"
          ]
        },
        {
          "output_type": "display_data",
          "data": {
            "text/plain": [
              "<Figure size 600x400 with 1 Axes>"
            ],
            "image/png": "[encoded data removed]"
          },
          "metadata": {}
        }
      ]
    }
  ]
}